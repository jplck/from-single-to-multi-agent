{
 "cells": [
  {
   "cell_type": "code",
   "execution_count": 2,
   "metadata": {},
   "outputs": [
    {
     "data": {
      "text/plain": [
       "True"
      ]
     },
     "execution_count": 2,
     "metadata": {},
     "output_type": "execute_result"
    }
   ],
   "source": [
    "import os\n",
    "\n",
    "from langchain import agents\n",
    "from langchain_core.prompts import PromptTemplate\n",
    "from langchain_core.tools import tool\n",
    "from langchain_openai import ChatOpenAI\n",
    "from langchain.agents import AgentExecutor, create_react_agent\n",
    "from langchain_core.tools import tool\n",
    "from llm import prepare_azure_openai_completion_model\n",
    "\n",
    "import pytz\n",
    "from datetime import datetime\n",
    "from dotenv import load_dotenv\n",
    "\n",
    "load_dotenv()\n"
   ]
  },
  {
   "cell_type": "code",
   "execution_count": 3,
   "metadata": {},
   "outputs": [],
   "source": [
    "model_name = os.getenv(\"AZURE_OPENAI_MODEL_NAME\")\n",
    "llm = prepare_azure_openai_completion_model()"
   ]
  },
  {
   "cell_type": "code",
   "execution_count": 4,
   "metadata": {},
   "outputs": [],
   "source": [
    "@tool\n",
    "def get_current_username(input: str) -> str:\n",
    "    \"Get the username of the current user.\"\n",
    "    return \"Dennis\"\n",
    "\n",
    "@tool\n",
    "def get_current_location(username: str) -> str:\n",
    "    \"Get the current timezone location of the user for a given username.\"\n",
    "    print(username)\n",
    "    if \"Dennis\" in username:\n",
    "        return \"Europe/Berlin\"\n",
    "    else:\n",
    "        return \"America/New_York\"\n",
    "\n",
    "@tool\n",
    "def get_current_time(location: str) -> str:\n",
    "    \"Get the current time in the given location. The pytz is used to get the timezone for that location. Location names should be in a format like America/Seattle, Asia/Bangkok, Europe/London. Anything in Germany should be Europe/Berlin\"\n",
    "    try:\n",
    "        print(\"get current time for location: \", location)\n",
    "        location = str.replace(location, \" \", \"\")\n",
    "        location = str.replace(location, \"\\\"\", \"\")\n",
    "        location = str.replace(location, \"\\n\", \"\")\n",
    "        # Get the timezone for the city\n",
    "        timezone = pytz.timezone(location)\n",
    "\n",
    "        # Get the current time in the timezone\n",
    "        now = datetime.now(timezone)\n",
    "        current_time = now.strftime(\"%I:%M:%S %p\")\n",
    "\n",
    "        return current_time\n",
    "    except Exception as e:\n",
    "        print(\"Error: \", e)\n",
    "        return \"Sorry, I couldn't find the timezone for that location.\"\n",
    "    \n",
    "tools = [get_current_username, get_current_location, get_current_time]"
   ]
  },
  {
   "cell_type": "code",
   "execution_count": 5,
   "metadata": {},
   "outputs": [],
   "source": [
    "commandprompt = '''\n",
    "    ##\n",
    "    You are a helpfull assistent and should respond to user questions.\n",
    "    If you cannot answer a question then say so explicitly and stop.\n",
    "    \n",
    "    '''\n",
    "\n",
    "promptString = commandprompt +  \"\"\"Answer the following questions as best you can. You have access to the following tools:\n",
    "\n",
    "{tools}\n",
    "\n",
    "Use the following format:\n",
    "\n",
    "Question: the input question you must answer\n",
    "\n",
    "Thought: you should always think about what to do\n",
    "\n",
    "Action: the action to take, should be one of [{tool_names}]. Make sure that Actions are not commands. They should be the name of the tool to use.\n",
    "\n",
    "Action Input: the input to the action according to the tool signature\n",
    "\n",
    "Observation: the result of the action\n",
    "\n",
    "... (this Thought/Action/Action Input/Observation can repeat N times)\n",
    "\n",
    "Thought: I now know the final answer\n",
    "\n",
    "Final Answer: the final answer to the original input question\n",
    "\n",
    "Begin!\n",
    "\n",
    "Question: {input}\n",
    "\n",
    "Thought:{agent_scratchpad}\n",
    "\n",
    "\"\"\"\n",
    "prompt = PromptTemplate.from_template(promptString)"
   ]
  },
  {
   "cell_type": "code",
   "execution_count": 6,
   "metadata": {},
   "outputs": [],
   "source": [
    "agent = create_react_agent(llm, tools, prompt)"
   ]
  },
  {
   "cell_type": "code",
   "execution_count": 7,
   "metadata": {},
   "outputs": [
    {
     "name": "stdout",
     "output_type": "stream",
     "text": [
      "\n",
      "\n",
      "\u001b[1m> Entering new Tools Agent chain...\u001b[0m\n",
      "\u001b[32;1m\u001b[1;3mTo find the current time in Berlin, I need to determine the current user's username, then find their location, and finally get the current time for that location.\n",
      "\n",
      "Action: get_current_username\n",
      "\n",
      "Action Input: None\n",
      "\u001b[0m\u001b[36;1m\u001b[1;3mDennis\u001b[0m\u001b[32;1m\u001b[1;3mI have the username, Dennis. Now, I need to find Dennis's current location to determine the timezone.\n",
      "\n",
      "Action: get_current_location\n",
      "\n",
      "Action Input: Dennis\n",
      "\u001b[0mDennis\n",
      "\n",
      "\u001b[33;1m\u001b[1;3mEurope/Berlin\u001b[0m\u001b[32;1m\u001b[1;3mI have the location, Europe/Berlin. Now, I need to get the current time in Berlin.\n",
      "\n",
      "Action: get_current_time\n",
      "\n",
      "Action Input: Europe/Berlin\n",
      "\u001b[0mget current time for location:  Europe/Berlin\n",
      "\n",
      "\u001b[38;5;200m\u001b[1;3m10:47:59 AM\u001b[0m\u001b[32;1m\u001b[1;3mI now know the final answer.\n",
      "\n",
      "Final Answer: The current time in Berlin is 10:47:59 AM.\u001b[0m\n",
      "\n",
      "\u001b[1m> Finished chain.\u001b[0m\n"
     ]
    }
   ],
   "source": [
    "agent_executor = agents.AgentExecutor(\n",
    "        name=\"Tools Agent\",\n",
    "        agent=agent, tools=tools,  verbose=True, handle_parsing_errors=True, max_iterations=10, return_intermediate_steps=True,\n",
    "    )\n",
    "\n",
    "input = \"What is the current time in Berlin?\"\n",
    "\n",
    "response = agent_executor.invoke(\n",
    "    {\"input\": input},\n",
    ")"
   ]
  }
 ],
 "metadata": {
  "kernelspec": {
   "display_name": "Python 3",
   "language": "python",
   "name": "python3"
  },
  "language_info": {
   "codemirror_mode": {
    "name": "ipython",
    "version": 3
   },
   "file_extension": ".py",
   "mimetype": "text/x-python",
   "name": "python",
   "nbconvert_exporter": "python",
   "pygments_lexer": "ipython3",
   "version": "3.12.9"
  }
 },
 "nbformat": 4,
 "nbformat_minor": 2
}
