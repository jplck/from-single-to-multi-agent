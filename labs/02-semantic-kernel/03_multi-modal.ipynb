{
 "cells": [
  {
   "cell_type": "markdown",
   "id": "dd8e169e",
   "metadata": {},
   "source": [
    "# Using images with chat completion\n",
    "\n",
    "The Semantic Kernel chat completion connectors support passing both images and text at the same time to a chat completion AI model. "
   ]
  },
  {
   "cell_type": "code",
   "execution_count": null,
   "id": "9fa85293",
   "metadata": {},
   "outputs": [],
   "source": [
    "# Import necessary libraries\n",
    "import os\n",
    "import json\n",
    "import asyncio\n",
    "from typing import Dict, Any\n",
    "\n",
    "from semantic_kernel import Kernel\n",
    "from semantic_kernel.connectors.ai.open_ai import (\n",
    "    AzureChatCompletion,\n",
    "    AzureChatPromptExecutionSettings\n",
    ")\n",
    "\n",
    "from semantic_kernel.contents import ChatHistory, ChatMessageContent, ImageContent, TextContent\n",
    "\n",
    "from dotenv import load_dotenv\n",
    "\n",
    "# Load environment variables\n",
    "load_dotenv()\n",
    "\n",
    "chat_completion_service = AzureChatCompletion(\n",
    "            service_id=\"azure_openai\",\n",
    "            deployment_name=os.environ.get(\"AZURE_OPENAI_COMPLETION_DEPLOYMENT_NAME\"),\n",
    "            api_key=os.environ.get(\"AZURE_OPENAI_API_KEY\"),\n",
    "            endpoint=os.environ.get(\"AZURE_OPENAI_ENDPOINT\"),\n",
    "            api_version=os.environ.get(\"AZURE_OPENAI_API_VERSION\")\n",
    "        )"
   ]
  },
  {
   "cell_type": "code",
   "execution_count": null,
   "id": "f7d3a601",
   "metadata": {},
   "outputs": [],
   "source": [
    "chat_history = ChatHistory()\n",
    "    \n",
    "user_input = \"Your job is describing images.\"\n",
    "chat_history.add_user_message(user_input)\n",
    "\n",
    "# If you have an image that is accessible via a URI, you can use the following code.\n",
    "#chat_history.add_message(\n",
    "#     ChatMessageContent(\n",
    "#         role=\"user\",\n",
    "#         items=[\n",
    "#             TextContent(text=\"What’s in this image?\"),\n",
    "#             ImageContent(uri=uri),\n",
    "#         ]\n",
    "#     )\n",
    "# )\n",
    "\n",
    "# If you have an image that is accessible via a local file path, you can use the following code.\n",
    "chat_history.add_message(\n",
    "    ChatMessageContent(\n",
    "        role=\"user\",\n",
    "        items=[\n",
    "            TextContent(text=\"What’s in this image?\"),\n",
    "            ImageContent.from_image_file(path=\"../../labs/02-semantic-kernel/R.jpeg\"),\n",
    "        ]\n",
    "    )\n",
    ")\n",
    "\n",
    "# Invoke the chat completion model.\n",
    "response = await chat_completion_service.get_chat_message_content(\n",
    "    chat_history=chat_history,\n",
    "    settings=AzureChatPromptExecutionSettings(\n",
    "        temperature=0.5,\n",
    "        max_tokens=1000,\n",
    "        top_p=1.0,\n",
    "        frequency_penalty=0.0,\n",
    "        presence_penalty=0.0,\n",
    "        stop=[\"\\n\"],\n",
    "    )\n",
    ")\n",
    "print(response)"
   ]
  }
 ],
 "metadata": {
  "kernelspec": {
   "display_name": "Python 3",
   "language": "python",
   "name": "python3"
  },
  "language_info": {
   "codemirror_mode": {
    "name": "ipython",
    "version": 3
   },
   "file_extension": ".py",
   "mimetype": "text/x-python",
   "name": "python",
   "nbconvert_exporter": "python",
   "pygments_lexer": "ipython3",
   "version": "3.12.9"
  }
 },
 "nbformat": 4,
 "nbformat_minor": 5
}
