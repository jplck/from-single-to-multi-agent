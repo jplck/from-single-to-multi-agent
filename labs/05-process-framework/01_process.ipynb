{
 "cells": [
  {
   "cell_type": "markdown",
   "id": "fdb65816",
   "metadata": {},
   "source": [
    "# OUT OF SCOPE\n",
    "# This notebook is not part of the course."
   ]
  }
 ],
 "metadata": {
  "language_info": {
   "name": "python"
  }
 },
 "nbformat": 4,
 "nbformat_minor": 5
}
