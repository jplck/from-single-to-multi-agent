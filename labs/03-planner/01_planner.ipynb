{
 "cells": [
  {
   "cell_type": "markdown",
   "id": "794458fa",
   "metadata": {},
   "source": [
    "# OUT OF SCOPE\n",
    "# This notebook is not part of the course."
   ]
  }
 ],
 "metadata": {
  "language_info": {
   "name": "python"
  }
 },
 "nbformat": 4,
 "nbformat_minor": 5
}
