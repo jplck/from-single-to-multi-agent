{
 "cells": [
  {
   "cell_type": "markdown",
   "id": "1b415b94",
   "metadata": {},
   "source": [
    "# Reasoning agents\n",
    "\n",
    "We want to show how a reasoning model can plan, interact and iterate without any guidance to solve a problem.\n",
    "\n",
    "Here we are using a reasoning model that also has the ability to use tools."
   ]
  },
  {
   "cell_type": "code",
   "execution_count": null,
   "id": "123a7c00",
   "metadata": {},
   "outputs": [],
   "source": [
    "\n",
    "import asyncio\n",
    "import os\n",
    "from openai import AsyncOpenAI\n",
    "\n",
    "from semantic_kernel.agents import AgentGroupChat, ChatCompletionAgent, ChatHistoryAgentThread\n",
    "from semantic_kernel.core_plugins.time_plugin import TimePlugin\n",
    "from semantic_kernel.core_plugins.math_plugin import MathPlugin\n",
    "from semantic_kernel.core_plugins.text_plugin import TextPlugin\n",
    "from semantic_kernel.connectors.ai.open_ai import OpenAIChatCompletion\n",
    "from semantic_kernel.contents.chat_message_content import ChatMessageContent\n",
    "from semantic_kernel.contents.utils.author_role import AuthorRole\n",
    "from semantic_kernel.functions.kernel_function_decorator import kernel_function\n",
    "from semantic_kernel.functions.kernel_function_from_prompt import KernelFunctionFromPrompt\n",
    "from semantic_kernel.connectors.ai.open_ai.prompt_execution_settings.azure_chat_prompt_execution_settings import (\n",
    "    AzureChatPromptExecutionSettings,\n",
    ")\n",
    "from semantic_kernel.functions import KernelArguments, kernel_function\n",
    "from semantic_kernel.connectors.ai.function_choice_behavior import FunctionChoiceBehavior\n",
    "from semantic_kernel.contents.chat_history import ChatHistory\n",
    "from semantic_kernel.kernel import Kernel\n",
    "from dotenv import load_dotenv\n",
    "from plugins import ChefPlugin\n",
    "from semantic_kernel.connectors.ai.azure_ai_inference import AzureAIInferenceChatCompletion\n",
    "from semantic_kernel.connectors.ai.open_ai import AzureChatCompletion\n",
    "\n",
    "load_dotenv()\n",
    "\n",
    "service_id = \"Expert\"\n",
    "\n",
    "if os.environ.get(\"AZURE_OPENAI_API_KEY\"):\n",
    "    print(\"Using Azure OpenAI\")\n",
    "    chat_completion_service = AzureChatCompletion(\n",
    "        deployment_name=os.environ[\"AZURE_OPENAI_REASONING_DEPLOYMENT_NAME\"],  \n",
    "        api_key=os.environ[\"AZURE_OPENAI_API_KEY\"],\n",
    "        endpoint=os.environ[\"AZURE_OPENAI_ENDPOINT\"],\n",
    "        service_id=service_id,\n",
    "    )\n",
    "else:\n",
    "    print(\"Using GitHub Inference\")\n",
    "    # To authenticate with the model you will need to generate a personal access token (PAT) in your GitHub settings. \n",
    "    # Create your PAT token by following instructions here: https://docs.github.com/en/authentication/keeping-your-account-and-data-secure/managing-your-personal-access-tokens\n",
    "    base_url=\"https://models.inference.ai.azure.com\"\n",
    "    api_key=os.environ[\"GITHUB_TOKEN\"]\n",
    "\n",
    "    chat_completion_service = AzureAIInferenceChatCompletion(\n",
    "        ai_model_id=\"o3-mini\",\n",
    "        api_key=api_key,\n",
    "        endpoint=base_url,\n",
    "        service_id=service_id,\n",
    "    )\n",
    "\n",
    "EXPERT_NAME = \"Expert\""
   ]
  },
  {
   "cell_type": "markdown",
   "id": "88cf0a33",
   "metadata": {},
   "source": [
    "add the instances for the kernel"
   ]
  },
  {
   "cell_type": "code",
   "execution_count": null,
   "id": "ccf7ef99",
   "metadata": {},
   "outputs": [],
   "source": [
    "\n",
    "kernel = Kernel()\n",
    "kernel.add_service(chat_completion_service)\n",
    "kernel.add_plugin(\n",
    "    ChefPlugin(),\n",
    "    plugin_name=\"Chef\",\n",
    ")\n",
    "\n",
    "def _create_chat_completion_client() -> OpenAIChatCompletion:\n",
    "    execution_settings = kernel.get_prompt_execution_settings_from_service_id(service_id=EXPERT_NAME)\n",
    "    execution_settings.function_choice_behavior = FunctionChoiceBehavior.Auto()\n",
    "    \n",
    "    agent_expert_instance = ChatCompletionAgent(\n",
    "        kernel=kernel,\n",
    "        name=EXPERT_NAME,\n",
    "        arguments=KernelArguments(settings=execution_settings),\n",
    "        instructions=\"\"\"\n",
    "            Your sole responsiblity is provide the best recommendation possible using all tools and information available. Be mindful of the medical conditions and dietary restrictions of the user.\n",
    "            If you found a recipe that matches the user's request, you can use the Chef plugin to provide the recipe details.\n",
    "            DO NOT address the user.\n",
    "            \"\"\",\n",
    "    )\n",
    "\n",
    "    return agent_expert_instance"
   ]
  },
  {
   "cell_type": "markdown",
   "id": "48c44304",
   "metadata": {},
   "source": [
    "run the agent"
   ]
  },
  {
   "cell_type": "code",
   "execution_count": null,
   "id": "606fafaf",
   "metadata": {},
   "outputs": [],
   "source": [
    "\n",
    "agent_expert = _create_chat_completion_client()\n",
    "thread: ChatHistoryAgentThread = None\n",
    "\n",
    "is_complete: bool = False\n",
    "while not is_complete:\n",
    "    user_input = input(\"User:> \")\n",
    "    if not user_input:\n",
    "        continue\n",
    "\n",
    "    if user_input.lower() == \"exit\":\n",
    "        is_complete = True\n",
    "        break\n",
    "\n",
    "    if user_input.lower() == \"reset\":\n",
    "        await thread.delete() if thread else None\n",
    "        await thread.create() if thread else None\n",
    "        print(\"[Conversation has been reset]\")\n",
    "        continue\n",
    "\n",
    "    async for response in agent_expert.invoke(messages=user_input, thread=thread):\n",
    "        print(f\"# {response.role} - {response.name or '*'}: '{response.content}'\")\n",
    "        thread = response.thread"
   ]
  }
 ],
 "metadata": {
  "kernelspec": {
   "display_name": "Python 3",
   "language": "python",
   "name": "python3"
  },
  "language_info": {
   "codemirror_mode": {
    "name": "ipython",
    "version": 3
   },
   "file_extension": ".py",
   "mimetype": "text/x-python",
   "name": "python",
   "nbconvert_exporter": "python",
   "pygments_lexer": "ipython3",
   "version": "3.12.10"
  }
 },
 "nbformat": 4,
 "nbformat_minor": 5
}
