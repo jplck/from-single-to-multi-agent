{
 "cells": [
  {
   "cell_type": "markdown",
   "id": "794458fa",
   "metadata": {},
   "source": [
    "# Single Agents"
   ]
  },
  {
   "cell_type": "markdown",
   "id": "fbb106b7",
   "metadata": {},
   "source": [
    "We will start with a single agent that can plan and iterate on a task with a set of given tools."
   ]
  },
  {
   "cell_type": "code",
   "execution_count": null,
   "id": "b00dac8b",
   "metadata": {},
   "outputs": [],
   "source": [
    "import os\n",
    "\n",
    "from langchain import agents\n",
    "from langchain_core.prompts import PromptTemplate\n",
    "from langchain_core.tools import tool\n",
    "from langchain_openai import ChatOpenAI\n",
    "from langchain.agents import AgentExecutor, create_react_agent\n",
    "from langchain_core.tools import tool\n",
    "\n",
    "import pytz\n",
    "from datetime import datetime\n",
    "\n",
    "from dotenv import load_dotenv\n",
    "\n",
    "load_dotenv()\n",
    "\n",
    "token = os.environ[\"GITHUB_TOKEN\"]\n",
    "endpoint = \"https://models.inference.ai.azure.com\"\n",
    "model_name = \"gpt-4o\"\n",
    "\n",
    "llm = ChatOpenAI(\n",
    "    model=model_name,\n",
    "    temperature=0,\n",
    "    max_tokens=None,\n",
    "    timeout=None,\n",
    "    max_retries=2,\n",
    "    api_key=token,\n",
    "    base_url=endpoint\n",
    ")"
   ]
  },
  {
   "cell_type": "markdown",
   "id": "fe40f4e5",
   "metadata": {},
   "source": [
    "define the tools for our agents"
   ]
  },
  {
   "cell_type": "code",
   "execution_count": null,
   "id": "309d89c4",
   "metadata": {},
   "outputs": [],
   "source": [
    "\n",
    "@tool\n",
    "def get_current_username(input: str) -> str:\n",
    "    \"Get the username of the current user.\"\n",
    "    return \"Dennis\"\n",
    "\n",
    "@tool\n",
    "def get_current_location(username: str) -> str:\n",
    "    \"Get the current timezone location of the user for a given username.\"\n",
    "    print(username)\n",
    "    if \"Dennis\" in username:\n",
    "        return \"Europe/Berlin\"\n",
    "    else:\n",
    "        return \"America/New_York\"\n",
    "\n",
    "@tool\n",
    "def get_current_time(location: str) -> str:\n",
    "    \"Get the current time in the given location. The pytz is used to get the timezone for that location. Location names should be in a format like America/Seattle, Asia/Bangkok, Europe/London. Anything in Germany should be Europe/Berlin\"\n",
    "    try:\n",
    "        print(\"get current time for location: \", location)\n",
    "        location = str.replace(location, \" \", \"\")\n",
    "        location = str.replace(location, \"\\\"\", \"\")\n",
    "        location = str.replace(location, \"\\n\", \"\")\n",
    "        # Get the timezone for the city\n",
    "        timezone = pytz.timezone(location)\n",
    "\n",
    "        # Get the current time in the timezone\n",
    "        now = datetime.now(timezone)\n",
    "        current_time = now.strftime(\"%I:%M:%S %p\")\n",
    "\n",
    "        return current_time\n",
    "    except Exception as e:\n",
    "        print(\"Error: \", e)\n",
    "        return \"Sorry, I couldn't find the timezone for that location.\"\n",
    "    \n",
    "tools = []\n",
    "tools = [get_current_time]\n",
    "tools = [get_current_username, get_current_location, get_current_time]"
   ]
  },
  {
   "cell_type": "markdown",
   "id": "25adec08",
   "metadata": {},
   "source": [
    "Lets now define our agents"
   ]
  },
  {
   "cell_type": "code",
   "execution_count": null,
   "id": "c1a3ea69",
   "metadata": {},
   "outputs": [],
   "source": [
    "\n",
    "commandprompt = '''\n",
    "    ##\n",
    "    You are a helpfull assistent and should respond to user questions.\n",
    "    If you cannot answer a question then say so explicitly and stop.\n",
    "    \n",
    "    '''\n",
    "\n",
    "promptString = commandprompt +  \"\"\"Answer the following questions as best you can. You have access to the following tools:\n",
    "\n",
    "{tools}\n",
    "\n",
    "Use the following format:\n",
    "\n",
    "Question: the input question you must answer\n",
    "\n",
    "Thought: you should always think about what to do\n",
    "\n",
    "Action: the action to take, should be one of [{tool_names}]. Make sure that Actions are not commands. They should be the name of the tool to use.\n",
    "\n",
    "Action Input: the input to the action according to the tool signature\n",
    "\n",
    "Observation: the result of the action\n",
    "\n",
    "... (this Thought/Action/Action Input/Observation can repeat N times)\n",
    "\n",
    "Thought: I now know the final answer\n",
    "\n",
    "Final Answer: the final answer to the original input question\n",
    "\n",
    "Begin!\n",
    "\n",
    "Question: {input}\n",
    "\n",
    "Thought:{agent_scratchpad}\n",
    "\n",
    "\"\"\"\n",
    "prompt = PromptTemplate.from_template(promptString)\n",
    "\n",
    "agent = create_react_agent(llm, tools, prompt)\n",
    "\n",
    "agent_executor = agents.AgentExecutor(\n",
    "        name=\"Tools Agent\",\n",
    "        agent=agent, tools=tools,  verbose=True, handle_parsing_errors=True, max_iterations=10, return_intermediate_steps=True,\n",
    "    )"
   ]
  },
  {
   "cell_type": "markdown",
   "id": "74941434",
   "metadata": {},
   "source": [
    "check how are agents doing"
   ]
  },
  {
   "cell_type": "code",
   "execution_count": null,
   "id": "bb6da0e5",
   "metadata": {},
   "outputs": [],
   "source": [
    "input = \"What is the current time here?\"\n",
    "\n",
    "response = agent_executor.invoke(\n",
    "    {\"input\": input},\n",
    ")\n",
    "       "
   ]
  }
 ],
 "metadata": {
  "kernelspec": {
   "display_name": "agent-workshop",
   "language": "python",
   "name": "python3"
  },
  "language_info": {
   "codemirror_mode": {
    "name": "ipython",
    "version": 3
   },
   "file_extension": ".py",
   "mimetype": "text/x-python",
   "name": "python",
   "nbconvert_exporter": "python",
   "pygments_lexer": "ipython3",
   "version": "3.12.9"
  }
 },
 "nbformat": 4,
 "nbformat_minor": 5
}
